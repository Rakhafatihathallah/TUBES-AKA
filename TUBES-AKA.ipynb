{
 "cells": [
  {
   "cell_type": "code",
   "execution_count": 1,
   "metadata": {
    "colab": {
     "base_uri": "https://localhost:8080/",
     "height": 1000
    },
    "executionInfo": {
     "elapsed": 1443,
     "status": "ok",
     "timestamp": 1734969988459,
     "user": {
      "displayName": "Rakha Fatih",
      "userId": "02993397196955931476"
     },
     "user_tz": -420
    },
    "id": "E_t7GuFK8VqW",
    "outputId": "a8f9f067-6a8a-4890-bb29-0a2e09a0cbda"
   },
   "outputs": [
    {
     "ename": "ModuleNotFoundError",
     "evalue": "No module named 'matplotlib'",
     "output_type": "error",
     "traceback": [
      "\u001b[0;31m---------------------------------------------------------------------------\u001b[0m",
      "\u001b[0;31mModuleNotFoundError\u001b[0m                       Traceback (most recent call last)",
      "Cell \u001b[0;32mIn[1], line 3\u001b[0m\n\u001b[1;32m      1\u001b[0m \u001b[38;5;28;01mimport\u001b[39;00m \u001b[38;5;21;01mrandom\u001b[39;00m\n\u001b[1;32m      2\u001b[0m \u001b[38;5;28;01mimport\u001b[39;00m \u001b[38;5;21;01mtime\u001b[39;00m\n\u001b[0;32m----> 3\u001b[0m \u001b[38;5;28;01mimport\u001b[39;00m \u001b[38;5;21;01mmatplotlib\u001b[39;00m\u001b[38;5;21;01m.\u001b[39;00m\u001b[38;5;21;01mpyplot\u001b[39;00m \u001b[38;5;28;01mas\u001b[39;00m \u001b[38;5;21;01mplt\u001b[39;00m\n\u001b[1;32m      4\u001b[0m \u001b[38;5;28;01mimport\u001b[39;00m \u001b[38;5;21;01mpandas\u001b[39;00m \u001b[38;5;28;01mas\u001b[39;00m \u001b[38;5;21;01mpd\u001b[39;00m\n\u001b[1;32m      6\u001b[0m \u001b[38;5;66;03m# Fungsi Bubble Sort\u001b[39;00m\n",
      "\u001b[0;31mModuleNotFoundError\u001b[0m: No module named 'matplotlib'"
     ]
    }
   ],
   "source": [
    "import random\n",
    "import time\n",
    "import matplotlib.pyplot as plt\n",
    "import pandas as pd\n",
    "\n",
    "# Fungsi Bubble Sort\n",
    "def bubble_sort(data):\n",
    "    n = len(data)\n",
    "    for i in range(n):\n",
    "        for j in range(0, n - i - 1):\n",
    "            if data[j][1] > data[j + 1][1]:  # Mengurutkan berdasarkan stok\n",
    "                data[j], data[j + 1] = data[j + 1], data[j]\n",
    "\n",
    "# Fungsi Quick Sort\n",
    "def quick_sort(data):\n",
    "    if len(data) <= 1:\n",
    "        return data\n",
    "    nilai_acuan = data[len(data) // 2][1]  # Menggunakan stok sebagai nilai acuan\n",
    "    left = [x for x in data if x[1] < nilai_acuan]\n",
    "    middle = [x for x in data if x[1] == nilai_acuan]\n",
    "    right = [x for x in data if x[1] > nilai_acuan]\n",
    "    return quick_sort(left) + middle + quick_sort(right)\n",
    "\n",
    "# Fungsi untuk Mengukur Waktu Eksekusi\n",
    "def measure_time_ns(sort_func, data):\n",
    "    \"\"\"Mengukur waktu eksekusi dalam nanodetik.\"\"\"\n",
    "    copy_data = data[:]\n",
    "    start_time = time.time_ns()\n",
    "    sort_func(copy_data)\n",
    "    return time.time_ns() - start_time\n",
    "\n",
    "# Fungsi untuk Membandingkan Algoritma Sorting\n",
    "def compare_sorting_algorithms(data_sizes):\n",
    "    algorithms = {\n",
    "        \"Bubble Sort\": bubble_sort,\n",
    "        \"Quick Sort\": quick_sort\n",
    "    }\n",
    "\n",
    "    results = {name: [] for name in algorithms.keys()}\n",
    "\n",
    "    for size in data_sizes:\n",
    "        print(f\"Processing size: {size}\")\n",
    "        data = [(f\"Item_{i}\", random.randint(1, 1000)) for i in range(size)]\n",
    "\n",
    "        for name, func in algorithms.items():\n",
    "            time_taken = measure_time_ns(func, data)\n",
    "            results[name].append(time_taken)\n",
    "\n",
    "    # Membuat DataFrame untuk Menampilkan Hasil dalam Bentuk Tabel\n",
    "    df = pd.DataFrame(results, index=data_sizes)\n",
    "    df.index.name = 'Ukuran Input (Jumlah Data)'\n",
    "    return df\n",
    "\n",
    "# Ukuran Data untuk Perbandingan\n",
    "data_sizes = list(range(10, 510, 10))\n",
    "df = compare_sorting_algorithms(data_sizes)\n",
    "\n",
    "# Menampilkan Hasil dalam Bentuk Tabel\n",
    "print(\"\\nHasil Perbandingan Waktu Eksekusi (dalam nanodetik):\")\n",
    "print(df)\n",
    "\n",
    "# Plot hasil\n",
    "plt.figure(figsize=(14, 8))\n",
    "for name in df.columns:\n",
    "    plt.plot(df.index, df[name], label=name)\n",
    "\n",
    "plt.xlabel(\"Ukuran Input\")\n",
    "plt.ylabel(\"Waktu Eksekusi (nanodetik)\")\n",
    "plt.title(\"Perbandingan Efisiensi Algoritma Sorting (Bubble Sort vs Quick Sort)\")\n",
    "plt.legend()\n",
    "plt.grid(visible=True, linestyle='--', alpha=0.7)\n",
    "plt.yscale('linear')\n",
    "plt.show()\n"
   ]
  },
  {
   "cell_type": "code",
   "execution_count": null,
   "metadata": {
    "id": "xzx9qxUsRR_B"
   },
   "outputs": [],
   "source": [
    "from google.colab import drive\n",
    "drive.mount('/content/drive')"
   ]
  }
 ],
 "metadata": {
  "colab": {
   "provenance": []
  },
  "kernelspec": {
   "display_name": "Python 3",
   "name": "python3"
  },
  "language_info": {
   "codemirror_mode": {
    "name": "ipython",
    "version": 3
   },
   "file_extension": ".py",
   "mimetype": "text/x-python",
   "name": "python",
   "nbconvert_exporter": "python",
   "pygments_lexer": "ipython3",
   "version": "3.9.6"
  }
 },
 "nbformat": 4,
 "nbformat_minor": 0
}
